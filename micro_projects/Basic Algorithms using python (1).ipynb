{
 "cells": [
  {
   "cell_type": "markdown",
   "metadata": {},
   "source": [
    "## Fibonacci Series\n",
    "A progrm to print fibonacci series upto a given number."
   ]
  },
  {
   "cell_type": "code",
   "execution_count": 1,
   "metadata": {},
   "outputs": [
    {
     "name": "stdout",
     "output_type": "stream",
     "text": [
      "Input the limit\n",
      "5\n",
      "The first 5 fibonacci series is \n",
      "\n",
      "0 1 1 2 3 "
     ]
    }
   ],
   "source": [
    "n = int(input(\"Input the limit\\n\"))\n",
    "print(\"The first\", n, \"fibonacci series is \\n\")\n",
    "f1 = 0\n",
    "f2 = 1\n",
    "if n == 1:\n",
    "    print(f1)\n",
    "elif n > 1:\n",
    "    print(f1, f2, end = \" \")\n",
    "    for _ in range(1, n-1):\n",
    "        f3 = f1 + f2\n",
    "        print(f3, end = \" \")\n",
    "        f1 = f2\n",
    "        f2 = f3"
   ]
  },
  {
   "cell_type": "markdown",
   "metadata": {},
   "source": [
    "## Sort array by parity\n",
    "This program seperats numbers in a list based on it's odd or even"
   ]
  },
  {
   "cell_type": "code",
   "execution_count": 2,
   "metadata": {},
   "outputs": [
    {
     "name": "stdout",
     "output_type": "stream",
     "text": [
      "Enter the lenth of the list\n",
      "5\n",
      "Enter the elements of the list\n",
      "\n",
      "23\n",
      "12\n",
      "21\n",
      "10\n",
      "11\n",
      "[23, 12, 21, 10, 11]\n"
     ]
    }
   ],
   "source": [
    "a= []\n",
    "n = int(input(\"Enter the lenth of the list\\n\"))\n",
    "print(\"Enter the elements of the list\\n\")\n",
    "for _ in range(n):\n",
    "    a.append(int(input()))\n",
    "print(a)"
   ]
  },
  {
   "cell_type": "code",
   "execution_count": 3,
   "metadata": {},
   "outputs": [
    {
     "name": "stdout",
     "output_type": "stream",
     "text": [
      "[12, 10, 21, 23, 11]\n"
     ]
    }
   ],
   "source": [
    "i, j = 0, 0\n",
    "while j < n:\n",
    "    if a[j] % 2 == 0 :\n",
    "        a[i], a[j] = a[j], a[i]\n",
    "        i += 1\n",
    "    j += 1\n",
    "print(a)\n",
    " "
   ]
  },
  {
   "cell_type": "markdown",
   "metadata": {},
   "source": [
    "## Words formed using given characters\n",
    "This program works something like\n",
    "\n",
    "Input : Dict = [\"go\",\"bat\",\"me\",\"eat\",\"goal\",\"boy\", \"run\"]\n",
    "       \n",
    "       arr = ['e','o','b', 'a','m','g', 'l']\n",
    "        \n",
    "Output : go, me, goal. "
   ]
  },
  {
   "cell_type": "code",
   "execution_count": 15,
   "metadata": {},
   "outputs": [
    {
     "name": "stdout",
     "output_type": "stream",
     "text": [
      "go\n",
      "me\n",
      "goal\n"
     ]
    }
   ],
   "source": [
    "# Function to print words which can be created \n",
    "# using given set of characters \n",
    "\n",
    "\n",
    "\n",
    "def charCount(word): \n",
    "    dict = {} \n",
    "    for i in word: \n",
    "        dict[i] = dict.get(i, 0) + 1\n",
    "    return dict\n",
    "\n",
    "\n",
    "def possible_words(lwords, charSet): \n",
    "    for word in lwords: \n",
    "        flag = 1\n",
    "        chars = charCount(word) \n",
    "        for key in chars: \n",
    "            if key not in charSet: \n",
    "                flag = 0\n",
    "        else: \n",
    "            if charSet.count(key) != chars[key]: \n",
    "                flag = 0\n",
    "        if flag == 1: \n",
    "            print(word) \n",
    "\n",
    " \n",
    "input = ['go', 'bat', 'me', 'eat', 'goal', 'boy', 'run'] \n",
    "charSet = ['e', 'o', 'b', 'a', 'm', 'g', 'l'] \n",
    "possible_words(input, charSet) \n"
   ]
  },
  {
   "cell_type": "code",
   "execution_count": null,
   "metadata": {},
   "outputs": [],
   "source": []
  }
 ],
 "metadata": {
  "kernelspec": {
   "display_name": "Python 3",
   "language": "python",
   "name": "python3"
  },
  "language_info": {
   "codemirror_mode": {
    "name": "ipython",
    "version": 3
   },
   "file_extension": ".py",
   "mimetype": "text/x-python",
   "name": "python",
   "nbconvert_exporter": "python",
   "pygments_lexer": "ipython3",
   "version": "3.8.3rc1"
  }
 },
 "nbformat": 4,
 "nbformat_minor": 4
}
